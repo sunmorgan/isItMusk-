{
 "cells": [
  {
   "cell_type": "markdown",
   "metadata": {},
   "source": [
    "Importing request to gain info through rapidapi"
   ]
  },
  {
   "cell_type": "code",
   "execution_count": 2,
   "metadata": {},
   "outputs": [],
   "source": [
    "import requests\n",
    "import json"
   ]
  },
  {
   "cell_type": "code",
   "execution_count": 4,
   "metadata": {},
   "outputs": [],
   "source": [
    "url = \"https://twitter154.p.rapidapi.com/user/tweets\"\n",
    "\n",
    "querystring = {\"username\": \"elonmusk\", \"limit\": \"40\"}\n",
    "\n",
    "headers = {\n",
    "\t\"X-RapidAPI-Key\": \"d115afef88msh9ae2867d539e2bep10382ejsn1c4753038c51\",\n",
    "\t\"X-RapidAPI-Host\": \"twitter154.p.rapidapi.com\"\n",
    "}\n",
    "\n",
    "response = requests.request(\"GET\", url, headers=headers, params=querystring)\n",
    "\n",
    "mT = open(\"data/muskTweets.json\", \"w\")\n",
    "\n",
    "with open('data/muskTweets.json', 'w', encoding='utf-8') as f:\n",
    "    json.dump(response.json(), f, ensure_ascii=False, indent=4)"
   ]
  },
  {
   "cell_type": "markdown",
   "metadata": {},
   "source": [
    "Successfully taken and written information in json format, now I will format json in a way such that it only returns the actual twitter content, taking false samples from other entrepreneurs: Jeff Bezos and Tim Cook"
   ]
  },
  {
   "cell_type": "code",
   "execution_count": 5,
   "metadata": {},
   "outputs": [],
   "source": [
    "querystring = {\"username\": \"JeffBezos\", \"limit\": \"20\"}\n",
    "\n",
    "response = requests.request(\"GET\", url, headers=headers, params=querystring)\n",
    "\n",
    "jB = open(\"data/bezosTweets.json\", \"w\")\n",
    "\n",
    "with open('data/bezosTweets.json', 'w', encoding='utf-8') as f:\n",
    "    json.dump(response.json(), f, ensure_ascii=False, indent=4)\n"
   ]
  },
  {
   "cell_type": "code",
   "execution_count": null,
   "metadata": {},
   "outputs": [],
   "source": [
    "querystring = {\"username\": \"tim_cook\", \"limit\": \"20\"}\n",
    "\n",
    "response = requests.request(\"GET\", url, headers=headers, params=querystring)\n",
    "\n",
    "jB = open(\"data/cookTweets.json\", \"w\")\n",
    "\n",
    "with open('data/cookTweets.json', 'w', encoding='utf-8') as f:\n",
    "    json.dump(response.json(), f, ensure_ascii=False, indent=4)\n"
   ]
  }
 ],
 "metadata": {
  "kernelspec": {
   "display_name": "Python 3.10.6 64-bit",
   "language": "python",
   "name": "python3"
  },
  "language_info": {
   "codemirror_mode": {
    "name": "ipython",
    "version": 3
   },
   "file_extension": ".py",
   "mimetype": "text/x-python",
   "name": "python",
   "nbconvert_exporter": "python",
   "pygments_lexer": "ipython3",
   "version": "3.10.6"
  },
  "orig_nbformat": 4,
  "vscode": {
   "interpreter": {
    "hash": "aee8b7b246df8f9039afb4144a1f6fd8d2ca17a180786b69acc140d282b71a49"
   }
  }
 },
 "nbformat": 4,
 "nbformat_minor": 2
}
